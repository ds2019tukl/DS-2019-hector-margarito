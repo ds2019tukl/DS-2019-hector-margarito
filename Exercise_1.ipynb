{
 "cells": [
  {
   "cell_type": "markdown",
   "metadata": {},
   "source": [
    "# Introduction to data Science. Exercise 1"
   ]
  },
  {
   "cell_type": "markdown",
   "metadata": {},
   "source": [
    "## Bussiness Understanding"
   ]
  },
  {
   "cell_type": "markdown",
   "metadata": {},
   "source": [
    "* Background: \n",
    "    Data scientist working for a company that provides car fleet maintenance services\n",
    "* Bussiness objective: \n",
    "    How can we add value to the company by analyzing data from historic gasoline prices in Germany?"
   ]
  },
  {
   "cell_type": "markdown",
   "metadata": {},
   "source": [
    "## Understanding the Data"
   ]
  },
  {
   "cell_type": "markdown",
   "metadata": {},
   "source": [
    "In this Part I'm going to focus on loading the Data from both stations and prices samples. Also exploring the data and \n",
    "checking the quality of it.\n"
   ]
  },
  {
   "cell_type": "code",
   "execution_count": 106,
   "metadata": {},
   "outputs": [],
   "source": [
    "import pandas as pd\n",
    "import numpy as np\n",
    "import matplotlib.pyplot as plt\n",
    "import seaborn as sns\n",
    "import missingno as ms\n",
    "%matplotlib inline"
   ]
  },
  {
   "cell_type": "code",
   "execution_count": 107,
   "metadata": {},
   "outputs": [],
   "source": [
    "data_st = pd.read_csv('example_sprit_cut_station.csv', sep=\";\")\n",
    "data_pr = pd.read_csv('example_sprit_cut_prices.csv', sep=\";\")"
   ]
  },
  {
   "cell_type": "code",
   "execution_count": 108,
   "metadata": {},
   "outputs": [
    {
     "data": {
      "text/html": [
       "<div>\n",
       "<style scoped>\n",
       "    .dataframe tbody tr th:only-of-type {\n",
       "        vertical-align: middle;\n",
       "    }\n",
       "\n",
       "    .dataframe tbody tr th {\n",
       "        vertical-align: top;\n",
       "    }\n",
       "\n",
       "    .dataframe thead th {\n",
       "        text-align: right;\n",
       "    }\n",
       "</style>\n",
       "<table border=\"1\" class=\"dataframe\">\n",
       "  <thead>\n",
       "    <tr style=\"text-align: right;\">\n",
       "      <th></th>\n",
       "      <th>STID</th>\n",
       "      <th>E5</th>\n",
       "      <th>E10</th>\n",
       "      <th>DIESEL</th>\n",
       "      <th>DATE_CHANGED</th>\n",
       "      <th>CHANGED</th>\n",
       "    </tr>\n",
       "  </thead>\n",
       "  <tbody>\n",
       "    <tr>\n",
       "      <th>0</th>\n",
       "      <td>01bf5a06-4248-43a5-9524-56123fa3ab2f</td>\n",
       "      <td>1589</td>\n",
       "      <td>1549</td>\n",
       "      <td>1389</td>\n",
       "      <td>2014-10-02 05:22:01.000000</td>\n",
       "      <td>21</td>\n",
       "    </tr>\n",
       "    <tr>\n",
       "      <th>1</th>\n",
       "      <td>01bf5a06-4248-43a5-9524-56123fa3ab2f</td>\n",
       "      <td>1569</td>\n",
       "      <td>1529</td>\n",
       "      <td>1369</td>\n",
       "      <td>2014-10-02 05:26:01.000000</td>\n",
       "      <td>21</td>\n",
       "    </tr>\n",
       "    <tr>\n",
       "      <th>2</th>\n",
       "      <td>01bf5a06-4248-43a5-9524-56123fa3ab2f</td>\n",
       "      <td>1569</td>\n",
       "      <td>1529</td>\n",
       "      <td>1359</td>\n",
       "      <td>2014-10-02 09:06:01.000000</td>\n",
       "      <td>1</td>\n",
       "    </tr>\n",
       "    <tr>\n",
       "      <th>3</th>\n",
       "      <td>01bf5a06-4248-43a5-9524-56123fa3ab2f</td>\n",
       "      <td>1539</td>\n",
       "      <td>1499</td>\n",
       "      <td>1339</td>\n",
       "      <td>2014-10-03 12:14:01.000000</td>\n",
       "      <td>21</td>\n",
       "    </tr>\n",
       "    <tr>\n",
       "      <th>4</th>\n",
       "      <td>01bf5a06-4248-43a5-9524-56123fa3ab2f</td>\n",
       "      <td>1529</td>\n",
       "      <td>1489</td>\n",
       "      <td>1329</td>\n",
       "      <td>2014-10-03 14:14:01.000000</td>\n",
       "      <td>21</td>\n",
       "    </tr>\n",
       "  </tbody>\n",
       "</table>\n",
       "</div>"
      ],
      "text/plain": [
       "                                   STID    E5   E10  DIESEL  \\\n",
       "0  01bf5a06-4248-43a5-9524-56123fa3ab2f  1589  1549    1389   \n",
       "1  01bf5a06-4248-43a5-9524-56123fa3ab2f  1569  1529    1369   \n",
       "2  01bf5a06-4248-43a5-9524-56123fa3ab2f  1569  1529    1359   \n",
       "3  01bf5a06-4248-43a5-9524-56123fa3ab2f  1539  1499    1339   \n",
       "4  01bf5a06-4248-43a5-9524-56123fa3ab2f  1529  1489    1329   \n",
       "\n",
       "                 DATE_CHANGED  CHANGED  \n",
       "0  2014-10-02 05:22:01.000000       21  \n",
       "1  2014-10-02 05:26:01.000000       21  \n",
       "2  2014-10-02 09:06:01.000000        1  \n",
       "3  2014-10-03 12:14:01.000000       21  \n",
       "4  2014-10-03 14:14:01.000000       21  "
      ]
     },
     "execution_count": 108,
     "metadata": {},
     "output_type": "execute_result"
    }
   ],
   "source": [
    "data_pr.head()"
   ]
  },
  {
   "cell_type": "code",
   "execution_count": 109,
   "metadata": {},
   "outputs": [
    {
     "name": "stdout",
     "output_type": "stream",
     "text": [
      "<class 'pandas.core.frame.DataFrame'>\n",
      "RangeIndex: 2189526 entries, 0 to 2189525\n",
      "Data columns (total 6 columns):\n",
      "STID            object\n",
      "E5              int64\n",
      "E10             int64\n",
      "DIESEL          int64\n",
      "DATE_CHANGED    object\n",
      "CHANGED         int64\n",
      "dtypes: int64(4), object(2)\n",
      "memory usage: 100.2+ MB\n"
     ]
    }
   ],
   "source": [
    "data_pr.info()"
   ]
  },
  {
   "cell_type": "code",
   "execution_count": 110,
   "metadata": {},
   "outputs": [
    {
     "data": {
      "text/html": [
       "<div>\n",
       "<style scoped>\n",
       "    .dataframe tbody tr th:only-of-type {\n",
       "        vertical-align: middle;\n",
       "    }\n",
       "\n",
       "    .dataframe tbody tr th {\n",
       "        vertical-align: top;\n",
       "    }\n",
       "\n",
       "    .dataframe thead th {\n",
       "        text-align: right;\n",
       "    }\n",
       "</style>\n",
       "<table border=\"1\" class=\"dataframe\">\n",
       "  <thead>\n",
       "    <tr style=\"text-align: right;\">\n",
       "      <th></th>\n",
       "      <th>E5</th>\n",
       "      <th>E10</th>\n",
       "      <th>DIESEL</th>\n",
       "      <th>CHANGED</th>\n",
       "    </tr>\n",
       "  </thead>\n",
       "  <tbody>\n",
       "    <tr>\n",
       "      <th>count</th>\n",
       "      <td>2.189526e+06</td>\n",
       "      <td>2.189526e+06</td>\n",
       "      <td>2.189526e+06</td>\n",
       "      <td>2.189526e+06</td>\n",
       "    </tr>\n",
       "    <tr>\n",
       "      <th>mean</th>\n",
       "      <td>1.434320e+03</td>\n",
       "      <td>1.404088e+03</td>\n",
       "      <td>1.247491e+03</td>\n",
       "      <td>1.871165e+01</td>\n",
       "    </tr>\n",
       "    <tr>\n",
       "      <th>std</th>\n",
       "      <td>2.091502e+02</td>\n",
       "      <td>2.116844e+02</td>\n",
       "      <td>1.037774e+02</td>\n",
       "      <td>8.031150e+00</td>\n",
       "    </tr>\n",
       "    <tr>\n",
       "      <th>min</th>\n",
       "      <td>-1.000000e+00</td>\n",
       "      <td>-1.000000e+00</td>\n",
       "      <td>-1.000000e+00</td>\n",
       "      <td>1.000000e+00</td>\n",
       "    </tr>\n",
       "    <tr>\n",
       "      <th>25%</th>\n",
       "      <td>1.379000e+03</td>\n",
       "      <td>1.349000e+03</td>\n",
       "      <td>1.169000e+03</td>\n",
       "      <td>2.100000e+01</td>\n",
       "    </tr>\n",
       "    <tr>\n",
       "      <th>50%</th>\n",
       "      <td>1.459000e+03</td>\n",
       "      <td>1.429000e+03</td>\n",
       "      <td>1.239000e+03</td>\n",
       "      <td>2.100000e+01</td>\n",
       "    </tr>\n",
       "    <tr>\n",
       "      <th>75%</th>\n",
       "      <td>1.529000e+03</td>\n",
       "      <td>1.499000e+03</td>\n",
       "      <td>1.324000e+03</td>\n",
       "      <td>2.100000e+01</td>\n",
       "    </tr>\n",
       "    <tr>\n",
       "      <th>max</th>\n",
       "      <td>9.999000e+03</td>\n",
       "      <td>9.999000e+03</td>\n",
       "      <td>1.129000e+04</td>\n",
       "      <td>6.300000e+01</td>\n",
       "    </tr>\n",
       "  </tbody>\n",
       "</table>\n",
       "</div>"
      ],
      "text/plain": [
       "                 E5           E10        DIESEL       CHANGED\n",
       "count  2.189526e+06  2.189526e+06  2.189526e+06  2.189526e+06\n",
       "mean   1.434320e+03  1.404088e+03  1.247491e+03  1.871165e+01\n",
       "std    2.091502e+02  2.116844e+02  1.037774e+02  8.031150e+00\n",
       "min   -1.000000e+00 -1.000000e+00 -1.000000e+00  1.000000e+00\n",
       "25%    1.379000e+03  1.349000e+03  1.169000e+03  2.100000e+01\n",
       "50%    1.459000e+03  1.429000e+03  1.239000e+03  2.100000e+01\n",
       "75%    1.529000e+03  1.499000e+03  1.324000e+03  2.100000e+01\n",
       "max    9.999000e+03  9.999000e+03  1.129000e+04  6.300000e+01"
      ]
     },
     "execution_count": 110,
     "metadata": {},
     "output_type": "execute_result"
    }
   ],
   "source": [
    "data_pr.describe()"
   ]
  },
  {
   "cell_type": "markdown",
   "metadata": {},
   "source": [
    "* We can observe negative min value, we would need later to remove these rows as the information is not valid\n",
    "* Max values for E5 and E10 are out of \"normal\" range. To drop\n",
    "* CHANGED column doesn't provide info to dop. DATE_CHANGED column gives us detailed information about the change."
   ]
  },
  {
   "cell_type": "code",
   "execution_count": 111,
   "metadata": {},
   "outputs": [
    {
     "data": {
      "text/plain": [
       "<matplotlib.axes._subplots.AxesSubplot at 0x15211a35908>"
      ]
     },
     "execution_count": 111,
     "metadata": {},
     "output_type": "execute_result"
    },
    {
     "data": {
      "image/png": "[encoded data removed]",
      "text/plain": [
       "<Figure size 432x288 with 1 Axes>"
      ]
     },
     "metadata": {
      "needs_background": "light"
     },
     "output_type": "display_data"
    }
   ],
   "source": [
    "sns.distplot(data_pr['E10'])"
   ]
  },
  {
   "cell_type": "markdown",
   "metadata": {},
   "source": [
    "* we can delimit the ranges of the prices, after visualazing like in the above graphic something between 1000 and 2000"
   ]
  },
  {
   "cell_type": "code",
   "execution_count": 112,
   "metadata": {},
   "outputs": [
    {
     "data": {
      "text/html": [
       "<div>\n",
       "<style scoped>\n",
       "    .dataframe tbody tr th:only-of-type {\n",
       "        vertical-align: middle;\n",
       "    }\n",
       "\n",
       "    .dataframe tbody tr th {\n",
       "        vertical-align: top;\n",
       "    }\n",
       "\n",
       "    .dataframe thead th {\n",
       "        text-align: right;\n",
       "    }\n",
       "</style>\n",
       "<table border=\"1\" class=\"dataframe\">\n",
       "  <thead>\n",
       "    <tr style=\"text-align: right;\">\n",
       "      <th></th>\n",
       "      <th>ID</th>\n",
       "      <th>VERSION</th>\n",
       "      <th>VERSION_TIME</th>\n",
       "      <th>NAME</th>\n",
       "      <th>BRAND</th>\n",
       "      <th>STREET</th>\n",
       "      <th>HOUSE_NUMBER</th>\n",
       "      <th>POST_CODE</th>\n",
       "      <th>PLACE</th>\n",
       "      <th>PUBLIC_HOLIDAY_IDENTIFIER</th>\n",
       "      <th>LAT</th>\n",
       "      <th>LNG</th>\n",
       "    </tr>\n",
       "  </thead>\n",
       "  <tbody>\n",
       "    <tr>\n",
       "      <th>0</th>\n",
       "      <td>d37bee76-91b6-485a-b974-24f1b0d391fa</td>\n",
       "      <td>4</td>\n",
       "      <td>2015-01-09 10:26:15.000000</td>\n",
       "      <td>Aral Tankstelle</td>\n",
       "      <td>ARAL</td>\n",
       "      <td>An der Tagweide</td>\n",
       "      <td>2</td>\n",
       "      <td>76139</td>\n",
       "      <td>Karlsruhe</td>\n",
       "      <td>\\N</td>\n",
       "      <td>49.020280</td>\n",
       "      <td>8.459429</td>\n",
       "    </tr>\n",
       "    <tr>\n",
       "      <th>1</th>\n",
       "      <td>51d4b652-a095-1aa0-e100-80009459e03a</td>\n",
       "      <td>796</td>\n",
       "      <td>2015-09-28 21:00:13.000000</td>\n",
       "      <td>JET MANNHEIM UNTERMUEHLAUSTRASSE 83</td>\n",
       "      <td>JET</td>\n",
       "      <td>UNTERMUEHLAUSTRASSE 83</td>\n",
       "      <td>\\N</td>\n",
       "      <td>68169</td>\n",
       "      <td>MANNHEIM</td>\n",
       "      <td>\\N</td>\n",
       "      <td>49.508962</td>\n",
       "      <td>8.467691</td>\n",
       "    </tr>\n",
       "    <tr>\n",
       "      <th>2</th>\n",
       "      <td>c7caf231-0e47-40db-92de-9349a2eb2bef</td>\n",
       "      <td>4</td>\n",
       "      <td>2014-09-26 13:24:57.000000</td>\n",
       "      <td>Aral Tankstelle</td>\n",
       "      <td>ARAL</td>\n",
       "      <td>Trippstadter Straße</td>\n",
       "      <td>69</td>\n",
       "      <td>67663</td>\n",
       "      <td>Kaiserslautern</td>\n",
       "      <td>\\N</td>\n",
       "      <td>49.433754</td>\n",
       "      <td>7.757465</td>\n",
       "    </tr>\n",
       "    <tr>\n",
       "      <th>3</th>\n",
       "      <td>51d4b53b-a095-1aa0-e100-80009459e03a</td>\n",
       "      <td>796</td>\n",
       "      <td>2015-09-28 21:00:13.000000</td>\n",
       "      <td>JET KAISERSLAUTERN PARISER STR. 167</td>\n",
       "      <td>JET</td>\n",
       "      <td>PARISER STR. 167</td>\n",
       "      <td>\\N</td>\n",
       "      <td>67655</td>\n",
       "      <td>KAISERSLAUTERN</td>\n",
       "      <td>\\N</td>\n",
       "      <td>49.442200</td>\n",
       "      <td>7.748360</td>\n",
       "    </tr>\n",
       "    <tr>\n",
       "      <th>4</th>\n",
       "      <td>51d4b70f-a095-1aa0-e100-80009459e03a</td>\n",
       "      <td>796</td>\n",
       "      <td>2015-09-28 21:00:13.000000</td>\n",
       "      <td>JET GERMERSHEIM MUENCHENER STRASSE 12</td>\n",
       "      <td>JET</td>\n",
       "      <td>MUENCHENER STRASSE 12</td>\n",
       "      <td>\\N</td>\n",
       "      <td>76726</td>\n",
       "      <td>GERMERSHEIM</td>\n",
       "      <td>\\N</td>\n",
       "      <td>49.226800</td>\n",
       "      <td>8.374400</td>\n",
       "    </tr>\n",
       "  </tbody>\n",
       "</table>\n",
       "</div>"
      ],
      "text/plain": [
       "                                     ID  VERSION                VERSION_TIME  \\\n",
       "0  d37bee76-91b6-485a-b974-24f1b0d391fa        4  2015-01-09 10:26:15.000000   \n",
       "1  51d4b652-a095-1aa0-e100-80009459e03a      796  2015-09-28 21:00:13.000000   \n",
       "2  c7caf231-0e47-40db-92de-9349a2eb2bef        4  2014-09-26 13:24:57.000000   \n",
       "3  51d4b53b-a095-1aa0-e100-80009459e03a      796  2015-09-28 21:00:13.000000   \n",
       "4  51d4b70f-a095-1aa0-e100-80009459e03a      796  2015-09-28 21:00:13.000000   \n",
       "\n",
       "                                    NAME BRAND                  STREET  \\\n",
       "0                        Aral Tankstelle  ARAL         An der Tagweide   \n",
       "1    JET MANNHEIM UNTERMUEHLAUSTRASSE 83   JET  UNTERMUEHLAUSTRASSE 83   \n",
       "2                        Aral Tankstelle  ARAL     Trippstadter Straße   \n",
       "3    JET KAISERSLAUTERN PARISER STR. 167   JET        PARISER STR. 167   \n",
       "4  JET GERMERSHEIM MUENCHENER STRASSE 12   JET   MUENCHENER STRASSE 12   \n",
       "\n",
       "  HOUSE_NUMBER POST_CODE           PLACE PUBLIC_HOLIDAY_IDENTIFIER        LAT  \\\n",
       "0            2     76139       Karlsruhe                        \\N  49.020280   \n",
       "1           \\N     68169        MANNHEIM                        \\N  49.508962   \n",
       "2           69     67663  Kaiserslautern                        \\N  49.433754   \n",
       "3           \\N     67655  KAISERSLAUTERN                        \\N  49.442200   \n",
       "4           \\N     76726     GERMERSHEIM                        \\N  49.226800   \n",
       "\n",
       "        LNG  \n",
       "0  8.459429  \n",
       "1  8.467691  \n",
       "2  7.757465  \n",
       "3  7.748360  \n",
       "4  8.374400  "
      ]
     },
     "execution_count": 112,
     "metadata": {},
     "output_type": "execute_result"
    }
   ],
   "source": [
    "data_st.head()"
   ]
  },
  {
   "cell_type": "code",
   "execution_count": 113,
   "metadata": {},
   "outputs": [
    {
     "name": "stdout",
     "output_type": "stream",
     "text": [
      "<class 'pandas.core.frame.DataFrame'>\n",
      "RangeIndex: 824 entries, 0 to 823\n",
      "Data columns (total 12 columns):\n",
      "ID                           824 non-null object\n",
      "VERSION                      824 non-null int64\n",
      "VERSION_TIME                 824 non-null object\n",
      "NAME                         824 non-null object\n",
      "BRAND                        802 non-null object\n",
      "STREET                       820 non-null object\n",
      "HOUSE_NUMBER                 674 non-null object\n",
      "POST_CODE                    820 non-null object\n",
      "PLACE                        820 non-null object\n",
      "PUBLIC_HOLIDAY_IDENTIFIER    824 non-null object\n",
      "LAT                          824 non-null float64\n",
      "LNG                          824 non-null float64\n",
      "dtypes: float64(2), int64(1), object(9)\n",
      "memory usage: 77.3+ KB\n"
     ]
    }
   ],
   "source": [
    "data_st.info()"
   ]
  },
  {
   "cell_type": "code",
   "execution_count": 114,
   "metadata": {},
   "outputs": [
    {
     "data": {
      "text/html": [
       "<div>\n",
       "<style scoped>\n",
       "    .dataframe tbody tr th:only-of-type {\n",
       "        vertical-align: middle;\n",
       "    }\n",
       "\n",
       "    .dataframe tbody tr th {\n",
       "        vertical-align: top;\n",
       "    }\n",
       "\n",
       "    .dataframe thead th {\n",
       "        text-align: right;\n",
       "    }\n",
       "</style>\n",
       "<table border=\"1\" class=\"dataframe\">\n",
       "  <thead>\n",
       "    <tr style=\"text-align: right;\">\n",
       "      <th></th>\n",
       "      <th>VERSION</th>\n",
       "      <th>LAT</th>\n",
       "      <th>LNG</th>\n",
       "    </tr>\n",
       "  </thead>\n",
       "  <tbody>\n",
       "    <tr>\n",
       "      <th>count</th>\n",
       "      <td>824.000000</td>\n",
       "      <td>824.000000</td>\n",
       "      <td>824.000000</td>\n",
       "    </tr>\n",
       "    <tr>\n",
       "      <th>mean</th>\n",
       "      <td>131.427184</td>\n",
       "      <td>49.322226</td>\n",
       "      <td>8.191227</td>\n",
       "    </tr>\n",
       "    <tr>\n",
       "      <th>std</th>\n",
       "      <td>269.682766</td>\n",
       "      <td>0.254722</td>\n",
       "      <td>0.283228</td>\n",
       "    </tr>\n",
       "    <tr>\n",
       "      <th>min</th>\n",
       "      <td>1.000000</td>\n",
       "      <td>48.800790</td>\n",
       "      <td>7.505350</td>\n",
       "    </tr>\n",
       "    <tr>\n",
       "      <th>25%</th>\n",
       "      <td>1.000000</td>\n",
       "      <td>49.106052</td>\n",
       "      <td>8.106655</td>\n",
       "    </tr>\n",
       "    <tr>\n",
       "      <th>50%</th>\n",
       "      <td>4.000000</td>\n",
       "      <td>49.374500</td>\n",
       "      <td>8.289707</td>\n",
       "    </tr>\n",
       "    <tr>\n",
       "      <th>75%</th>\n",
       "      <td>22.250000</td>\n",
       "      <td>49.509410</td>\n",
       "      <td>8.404923</td>\n",
       "    </tr>\n",
       "    <tr>\n",
       "      <th>max</th>\n",
       "      <td>881.000000</td>\n",
       "      <td>49.799397</td>\n",
       "      <td>8.499941</td>\n",
       "    </tr>\n",
       "  </tbody>\n",
       "</table>\n",
       "</div>"
      ],
      "text/plain": [
       "          VERSION         LAT         LNG\n",
       "count  824.000000  824.000000  824.000000\n",
       "mean   131.427184   49.322226    8.191227\n",
       "std    269.682766    0.254722    0.283228\n",
       "min      1.000000   48.800790    7.505350\n",
       "25%      1.000000   49.106052    8.106655\n",
       "50%      4.000000   49.374500    8.289707\n",
       "75%     22.250000   49.509410    8.404923\n",
       "max    881.000000   49.799397    8.499941"
      ]
     },
     "execution_count": 114,
     "metadata": {},
     "output_type": "execute_result"
    }
   ],
   "source": [
    "data_st.describe()"
   ]
  },
  {
   "cell_type": "markdown",
   "metadata": {},
   "source": [
    "* There are some missing information in BRAND, this can be filled with Unknown value\n",
    "* VERSION, VERSION_TIME,PUBLIC_HOLIDAY_IDENTIFIER does not provide with meaningfull info for this exercise. To Drop\n",
    "* Almost 20% of HOUSE_NUMBER data is missing, In this case is better to drop this column too\n",
    "* LAT and LNG can be used to locate the station, so we can drop STREET, PLACE, POSTCODE"
   ]
  },
  {
   "cell_type": "markdown",
   "metadata": {},
   "source": [
    "## Data preparation"
   ]
  },
  {
   "cell_type": "markdown",
   "metadata": {},
   "source": [
    "### Clean the data"
   ]
  },
  {
   "cell_type": "markdown",
   "metadata": {},
   "source": [
    "I'm dropping the columns containing non-important info for the exercise,also data cleaning is necessary \n",
    "and merging data for later analysis."
   ]
  },
  {
   "cell_type": "code",
   "execution_count": 115,
   "metadata": {},
   "outputs": [],
   "source": [
    "data_st.drop_duplicates(inplace=True)\n",
    "data_pr.drop_duplicates(inplace=True)"
   ]
  },
  {
   "cell_type": "markdown",
   "metadata": {},
   "source": [
    "We can Merge both data and continue cleaning from there after dropping duplicate data"
   ]
  },
  {
   "cell_type": "code",
   "execution_count": 116,
   "metadata": {},
   "outputs": [
    {
     "data": {
      "text/plain": [
       "(1094763, 17)"
      ]
     },
     "execution_count": 116,
     "metadata": {},
     "output_type": "execute_result"
    }
   ],
   "source": [
    "data = pd.merge(data_pr,data_st,left_on='STID',right_on= 'ID',how='inner')\n",
    "data.drop(columns=['ID'], inplace= True)\n",
    "data.shape"
   ]
  },
  {
   "cell_type": "code",
   "execution_count": 117,
   "metadata": {},
   "outputs": [],
   "source": [
    "to_drop_st = ['VERSION','VERSION_TIME','HOUSE_NUMBER','PUBLIC_HOLIDAY_IDENTIFIER',\n",
    "              'CHANGED', 'STREET', 'POST_CODE', 'PLACE']\n",
    "data.drop(to_drop_st,inplace=True,axis=1)"
   ]
  },
  {
   "cell_type": "code",
   "execution_count": 118,
   "metadata": {},
   "outputs": [
    {
     "data": {
      "text/html": [
       "<div>\n",
       "<style scoped>\n",
       "    .dataframe tbody tr th:only-of-type {\n",
       "        vertical-align: middle;\n",
       "    }\n",
       "\n",
       "    .dataframe tbody tr th {\n",
       "        vertical-align: top;\n",
       "    }\n",
       "\n",
       "    .dataframe thead th {\n",
       "        text-align: right;\n",
       "    }\n",
       "</style>\n",
       "<table border=\"1\" class=\"dataframe\">\n",
       "  <thead>\n",
       "    <tr style=\"text-align: right;\">\n",
       "      <th></th>\n",
       "      <th>STID</th>\n",
       "      <th>E5</th>\n",
       "      <th>E10</th>\n",
       "      <th>DIESEL</th>\n",
       "      <th>DATE_CHANGED</th>\n",
       "      <th>NAME</th>\n",
       "      <th>BRAND</th>\n",
       "      <th>LAT</th>\n",
       "      <th>LNG</th>\n",
       "    </tr>\n",
       "  </thead>\n",
       "  <tbody>\n",
       "    <tr>\n",
       "      <th>0</th>\n",
       "      <td>01bf5a06-4248-43a5-9524-56123fa3ab2f</td>\n",
       "      <td>1589</td>\n",
       "      <td>1549</td>\n",
       "      <td>1389</td>\n",
       "      <td>2014-10-02 05:22:01.000000</td>\n",
       "      <td>Esso Tankstelle</td>\n",
       "      <td>ESSO</td>\n",
       "      <td>49.633409</td>\n",
       "      <td>8.273847</td>\n",
       "    </tr>\n",
       "    <tr>\n",
       "      <th>1</th>\n",
       "      <td>01bf5a06-4248-43a5-9524-56123fa3ab2f</td>\n",
       "      <td>1569</td>\n",
       "      <td>1529</td>\n",
       "      <td>1369</td>\n",
       "      <td>2014-10-02 05:26:01.000000</td>\n",
       "      <td>Esso Tankstelle</td>\n",
       "      <td>ESSO</td>\n",
       "      <td>49.633409</td>\n",
       "      <td>8.273847</td>\n",
       "    </tr>\n",
       "    <tr>\n",
       "      <th>2</th>\n",
       "      <td>01bf5a06-4248-43a5-9524-56123fa3ab2f</td>\n",
       "      <td>1569</td>\n",
       "      <td>1529</td>\n",
       "      <td>1359</td>\n",
       "      <td>2014-10-02 09:06:01.000000</td>\n",
       "      <td>Esso Tankstelle</td>\n",
       "      <td>ESSO</td>\n",
       "      <td>49.633409</td>\n",
       "      <td>8.273847</td>\n",
       "    </tr>\n",
       "    <tr>\n",
       "      <th>3</th>\n",
       "      <td>01bf5a06-4248-43a5-9524-56123fa3ab2f</td>\n",
       "      <td>1539</td>\n",
       "      <td>1499</td>\n",
       "      <td>1339</td>\n",
       "      <td>2014-10-03 12:14:01.000000</td>\n",
       "      <td>Esso Tankstelle</td>\n",
       "      <td>ESSO</td>\n",
       "      <td>49.633409</td>\n",
       "      <td>8.273847</td>\n",
       "    </tr>\n",
       "    <tr>\n",
       "      <th>4</th>\n",
       "      <td>01bf5a06-4248-43a5-9524-56123fa3ab2f</td>\n",
       "      <td>1529</td>\n",
       "      <td>1489</td>\n",
       "      <td>1329</td>\n",
       "      <td>2014-10-03 14:14:01.000000</td>\n",
       "      <td>Esso Tankstelle</td>\n",
       "      <td>ESSO</td>\n",
       "      <td>49.633409</td>\n",
       "      <td>8.273847</td>\n",
       "    </tr>\n",
       "  </tbody>\n",
       "</table>\n",
       "</div>"
      ],
      "text/plain": [
       "                                   STID    E5   E10  DIESEL  \\\n",
       "0  01bf5a06-4248-43a5-9524-56123fa3ab2f  1589  1549    1389   \n",
       "1  01bf5a06-4248-43a5-9524-56123fa3ab2f  1569  1529    1369   \n",
       "2  01bf5a06-4248-43a5-9524-56123fa3ab2f  1569  1529    1359   \n",
       "3  01bf5a06-4248-43a5-9524-56123fa3ab2f  1539  1499    1339   \n",
       "4  01bf5a06-4248-43a5-9524-56123fa3ab2f  1529  1489    1329   \n",
       "\n",
       "                 DATE_CHANGED             NAME BRAND        LAT       LNG  \n",
       "0  2014-10-02 05:22:01.000000  Esso Tankstelle  ESSO  49.633409  8.273847  \n",
       "1  2014-10-02 05:26:01.000000  Esso Tankstelle  ESSO  49.633409  8.273847  \n",
       "2  2014-10-02 09:06:01.000000  Esso Tankstelle  ESSO  49.633409  8.273847  \n",
       "3  2014-10-03 12:14:01.000000  Esso Tankstelle  ESSO  49.633409  8.273847  \n",
       "4  2014-10-03 14:14:01.000000  Esso Tankstelle  ESSO  49.633409  8.273847  "
      ]
     },
     "execution_count": 118,
     "metadata": {},
     "output_type": "execute_result"
    }
   ],
   "source": [
    "data.head()"
   ]
  },
  {
   "cell_type": "markdown",
   "metadata": {},
   "source": [
    "Drop values that look too wide from the mean, which would mean erroneous values. Also convert prices to Euro unit."
   ]
  },
  {
   "cell_type": "code",
   "execution_count": 119,
   "metadata": {},
   "outputs": [],
   "source": [
    "data.drop(data[(data.E5>2000)|(data.E5<1000)].index,inplace=True,axis=0)\n",
    "data.drop(data[(data.E10>1800)|(data.E10<1000)].index,inplace=True,axis=0)\n",
    "data.drop(data[(data.DIESEL>1800)|(data.DIESEL<800)].index,inplace=True,axis=0)\n",
    "\n",
    "data['E10'] = data['E10'].apply(lambda x:  x/1000)\n",
    "data['E5'] = data['E5'].apply(lambda x:  x/1000)\n",
    "data['DIESEL'] = data['DIESEL'].apply(lambda x:  x/1000)"
   ]
  },
  {
   "cell_type": "code",
   "execution_count": 120,
   "metadata": {},
   "outputs": [
    {
     "data": {
      "text/plain": [
       "<matplotlib.axes._subplots.AxesSubplot at 0x151a22399e8>"
      ]
     },
     "execution_count": 120,
     "metadata": {},
     "output_type": "execute_result"
    },
    {
     "data": {
      "image/png": "[encoded data removed]",
      "text/plain": [
       "<Figure size 432x288 with 1 Axes>"
      ]
     },
     "metadata": {
      "needs_background": "light"
     },
     "output_type": "display_data"
    }
   ],
   "source": [
    "sns.distplot(data['E10'])"
   ]
  },
  {
   "cell_type": "markdown",
   "metadata": {},
   "source": [
    "Drop rows with empty Brand Values and 'not active'"
   ]
  },
  {
   "cell_type": "code",
   "execution_count": 121,
   "metadata": {},
   "outputs": [],
   "source": [
    "data.dropna(subset=['BRAND'], inplace=True)\n",
    "data.drop(data[(data.NAME=='nicht mehr aktiv')].index, inplace=True,axis=0)"
   ]
  },
  {
   "cell_type": "code",
   "execution_count": 122,
   "metadata": {},
   "outputs": [
    {
     "data": {
      "text/plain": [
       "<matplotlib.axes._subplots.AxesSubplot at 0x151a22930b8>"
      ]
     },
     "execution_count": 122,
     "metadata": {},
     "output_type": "execute_result"
    },
    {
     "data": {
      "image/png": "[encoded data removed]",
      "text/plain": [
       "<Figure size 1800x720 with 2 Axes>"
      ]
     },
     "metadata": {
      "needs_background": "light"
     },
     "output_type": "display_data"
    }
   ],
   "source": [
    "ms.matrix(data)"
   ]
  },
  {
   "cell_type": "code",
   "execution_count": null,
   "metadata": {},
   "outputs": [],
   "source": []
  }
 ],
 "metadata": {
  "kernelspec": {
   "display_name": "Python 3",
   "language": "python",
   "name": "python3"
  },
  "language_info": {
   "codemirror_mode": {
    "name": "ipython",
    "version": 3
   },
   "file_extension": ".py",
   "mimetype": "text/x-python",
   "name": "python",
   "nbconvert_exporter": "python",
   "pygments_lexer": "ipython3",
   "version": "3.7.3"
  }
 },
 "nbformat": 4,
 "nbformat_minor": 2
}
